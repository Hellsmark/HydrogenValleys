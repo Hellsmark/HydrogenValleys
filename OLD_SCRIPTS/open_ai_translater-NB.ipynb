{
 "cells": [
  {
   "cell_type": "code",
   "execution_count": 1,
   "metadata": {},
   "outputs": [],
   "source": [
    "import os\n",
    "from openai import OpenAI\n",
    "import pandas as pd\n",
    "from tqdm import tqdm"
   ]
  },
  {
   "cell_type": "code",
   "execution_count": 31,
   "metadata": {},
   "outputs": [],
   "source": [
    "# AI-function for translating texts from swedish to english\n",
    "client = OpenAI(api_key = 'API-key')\n",
    "def translate_text(text):\n",
    "    prompt = f\"Translate the following swedish text to english: {text}\"\n",
    "    response = client.chat.completions.create(\n",
    "        model=\"gpt-3.5-turbo-0125\",  \n",
    "        messages=[{\"role\": \"system\", \n",
    "                   \"content\": \"You are a helpful assistant that translates text.\"},\n",
    "                  {\"role\":\"user\",\n",
    "                   \"content\":prompt}],\n",
    "        max_tokens=4096,\n",
    "        temperature=0.5\n",
    "    )\n",
    "    return response.choices[0].message.content.strip()"
   ]
  },
  {
   "cell_type": "code",
   "execution_count": 32,
   "metadata": {},
   "outputs": [],
   "source": [
    "# Open up ams file and translate some of the descriptions\n",
    "df = pd.read_csv('ams.csv', sep=\";\")                    # -> Read a csv file of sort and make into a df\n",
    "\n",
    "df = df[df['s_terms[i]'].str.contains('vätgas*')]               \n",
    "\n",
    "df = df.head(1) \n",
    "\n",
    "column_to_translate = 'description'                 #The column which i want to translate in my csv\n",
    "\n",
    "originalText = list(df[column_to_translate])\n",
    "\n",
    "translatedTexts = []\n",
    "\n",
    "for text in originalText:\n",
    "    translatedText = translate_text(text)\n",
    "    translatedTexts.append(translatedText)\n",
    "\n",
    "df[column_to_translate + '_en'] = translatedTexts\n"
   ]
  },
  {
   "cell_type": "code",
   "execution_count": 17,
   "metadata": {},
   "outputs": [],
   "source": [
    "# Saving changes in text file\n",
    "file = open(\"test_translation.txt\", \"x\")\n",
    "file.write(df['description'][1])\n",
    "file.write('\\n \\n \\n \\n \\n \\n')\n",
    "file.write(df['description_en'][1])\n",
    "file.close()"
   ]
  },
  {
   "cell_type": "code",
   "execution_count": null,
   "metadata": {},
   "outputs": [],
   "source": [
    "# Saving changes in csv\n",
    "df.to_csv('translated_ams.csv', index=False)"
   ]
  }
 ],
 "metadata": {
  "kernelspec": {
   "display_name": "Python 3",
   "language": "python",
   "name": "python3"
  },
  "language_info": {
   "codemirror_mode": {
    "name": "ipython",
    "version": 3
   },
   "file_extension": ".py",
   "mimetype": "text/x-python",
   "name": "python",
   "nbconvert_exporter": "python",
   "pygments_lexer": "ipython3",
   "version": "3.11.6"
  }
 },
 "nbformat": 4,
 "nbformat_minor": 2
}
