{
 "cells": [
  {
   "cell_type": "markdown",
   "metadata": {},
   "source": [
    "# Packages and AI-function"
   ]
  },
  {
   "cell_type": "code",
   "execution_count": 1,
   "metadata": {},
   "outputs": [],
   "source": [
    "import os\n",
    "from openai import OpenAI\n",
    "import pandas as pd\n",
    "from tqdm import tqdm\n",
    "import ast\n",
    "\n",
    "#openai.api_key = os.environ['OPENAI_API_KEY']"
   ]
  },
  {
   "cell_type": "code",
   "execution_count": 17,
   "metadata": {},
   "outputs": [],
   "source": [
    "# AI-function that cathegorises companies\n",
    "client = OpenAI(api_key = 'API-KEY')\n",
    "def cathegoriser(text):\n",
    "    # Cathegories\n",
    "    cath1 = 'Organisation type, which describes what kind of company it is, e.g. \"municipality\", \"private company\", \"state owned company\", etc.'\n",
    "    cath2 = 'Ownership type, which describes what kind of owner the company has, that is either publically owned by some state or municipality or privately owned, as either \"Private\", \"Public\" or \"Mix\".'\n",
    "    cath3 = 'Actor type, which describes what sort of services they provide, such as \"Consulting\", \"lobbying\", \"manufacturing\", \"Energy provider\", etc. Please be specific in what kind of manufacturing/energy they provide.'\n",
    "    cath4 = 'Industry sector, which describes what sector the company operates in, e.g. \"energy\", \"chemicals\", \"steel\", \"transport\", etc.'\n",
    "    cath5 = 'Value chain position, which describes where in the value chain for hydrogen the company is located. This can be \"Energy provider\", \"Hydrogen producer\", \"Converter\" (from hydrogen to ammonia or methanol/e-fuels), \"Distrubtion & Storage\" or \"Usage\". If the company do not fit into the value chain it is cathegorised as \"NOT IN VALUE CHAIN\".'\n",
    "    cath6 = 'Nationality, which is from what country the company has its origin.'\n",
    "\n",
    "    example = \"[['Company1','Private company','Private','Energy provider (oil and gas)','Energy','Energy Provider,'Norway']['CompanyB','State owned','Public','Manufacturing (steel)','Process industry','Usage','Sweden']]\"\n",
    "\n",
    "    prompt = f\"Classify the following companies: '{text}'\"\n",
    "    response = client.chat.completions.create(\n",
    "        model=\"gpt-3.5-turbo-0125\",\n",
    "        messages=[{\"role\": \"system\", \n",
    "                   \"content\": \"You are a helpful assistant that cathegorises companies depending on the following topics: 1.\"+cath1+' 2.'+cath2+' 3.'+cath3+' 4.'+cath4+' 5.'+cath5+' 6.'+cath6+'. You respond in the form of a python list where each company has its own list with the answer to the different topics as items in the list. Start each companylist with the name of the company. Here are is an example of how a answer can look like for two companies: '+example},\n",
    "                  {\"role\":\"user\",\n",
    "                   \"content\":prompt}],\n",
    "        max_tokens=100,\n",
    "        temperature=0.9\n",
    "    )\n",
    "    return response.choices[0].message.content.strip()\n",
    "\n",
    "# . Please respond in the form of a python list where each company has its own list with the answer to the different topics as items in the list. Start each company list with the name of the company"
   ]
  },
  {
   "cell_type": "markdown",
   "metadata": {},
   "source": [
    "# Load companies and call AI"
   ]
  },
  {
   "cell_type": "code",
   "execution_count": 18,
   "metadata": {},
   "outputs": [],
   "source": [
    "# Read a csv file where the companynames are present. In this case the top 10 recruiters. Then it calls for AI-function to cathegorise.\n",
    "df = pd.read_csv('companies_for_AI_cathegorisation.csv')                    # -> Read a csv file of sort and make into a df\n",
    "companies = list(df['Name'])\n",
    "\n",
    "Result = []\n",
    "\n",
    "for text in companies:\n",
    "    answer = cathegoriser(text)\n",
    "    Result.append(answer)\n",
    "\n",
    "df['Cathegories'] = Result"
   ]
  },
  {
   "cell_type": "markdown",
   "metadata": {},
   "source": [
    "# Printing and saving"
   ]
  },
  {
   "cell_type": "code",
   "execution_count": 19,
   "metadata": {},
   "outputs": [
    {
     "name": "stdout",
     "output_type": "stream",
     "text": [
      " [['AFRY','Private company','Private','Consulting','Consulting','Sweden']]\n",
      "\n",
      " [['Aibel','Private company','Private','Engineering and construction services','Energy','Norway']]\n",
      "\n",
      " [['Aker Solutions','Private company','Private','Energy provider (oil and gas)','Energy','Norway']]\n",
      "\n",
      " [['Akkodis','Private company','Private','Consulting','Services','France']]\n",
      "\n",
      " [['European Energy', 'Private company', 'Private', 'Energy provider (renewable energy)', 'Energy', 'Denmark']]\n",
      "\n",
      " [['Green Hydrogen Systems', 'Private company', 'Private', 'Energy provider (hydrogen)', 'Energy', 'Denmark']]\n",
      "\n",
      " [['Nel','Public company','Public','Energy provider (hydrogen)','Energy','Norway']]\n",
      "\n",
      " [['Siemens Energy','Private company','Private','Energy provider (electricity)','Energy','Germany']]\n",
      "\n",
      " [['Statkraft','State owned company','Public','Energy provider (renewable)','Energy','Norway']]\n",
      "\n",
      " [['Vattenfall','State owned company','Public','Energy provider (electricity)','Energy','Sweden']]\n",
      "\n",
      "\n"
     ]
    }
   ],
   "source": [
    "# This cell is for saving the result\n",
    "f = open(\"new-company_cathegor_ai-0.9.txt\", \"w\")\n",
    "text = ''\n",
    "for company in df['Cathegories']:\n",
    "    splitted = company.split() \n",
    "    j = 0\n",
    "    row = ''\n",
    "    for c in splitted:\n",
    "        if c == '1.' or c == '2.' or c == '3.' or c == '4.' or c == '5.':\n",
    "            row += '\\n'\n",
    "            text += row\n",
    "            row = c\n",
    "        else:\n",
    "            row += ' '+c\n",
    "    text += row + '\\n\\n'\n",
    "print(text)\n",
    "f.write(text)\n",
    "f.close()"
   ]
  },
  {
   "cell_type": "code",
   "execution_count": null,
   "metadata": {},
   "outputs": [],
   "source": [
    "# This cell is for printing the result\n",
    "for company in df['Cathegories']:\n",
    "    splitted = company.split() \n",
    "    j = 0\n",
    "    for i in range(10,len(company),10):\n",
    "        row = ''\n",
    "        words = splitted[j:i]\n",
    "        for word in words:\n",
    "            row += ' '+word\n",
    "        print(row)\n",
    "        j = i   \n"
   ]
  },
  {
   "cell_type": "code",
   "execution_count": 19,
   "metadata": {},
   "outputs": [],
   "source": [
    "# This cell is for saving the result\n",
    "f = open(\"company_cathegor_ai0.8.txt\", \"a\")\n",
    "text = ''\n",
    "for company in df['Cathegories']:\n",
    "    splitted = company.split() \n",
    "    j = 0\n",
    "    for i in range(10,len(company),10):\n",
    "        row = ''\n",
    "        words = splitted[j:i]\n",
    "        for word in words:\n",
    "            row += ' '+word\n",
    "        row += '\\n'\n",
    "        text += row\n",
    "        j = i   \n",
    "    text += '\\n'\n",
    "f.write(text)\n",
    "f.close()"
   ]
  },
  {
   "cell_type": "code",
   "execution_count": null,
   "metadata": {},
   "outputs": [],
   "source": [
    "# This cell is for printing the result\n",
    "text = ''\n",
    "for company in df['Cathegories']:\n",
    "    splitted = company.split() \n",
    "    j = 0\n",
    "    row = ''\n",
    "    for c in splitted:\n",
    "        if c == '1.' or c == '2.' or c == '3.' or c == '4.' or c == '5.':\n",
    "            row += '\\n'\n",
    "            text += row\n",
    "            row = c\n",
    "        else:\n",
    "            row += ' '+c\n",
    "    text += row + '\\n\\n'\n",
    "print(text)"
   ]
  },
  {
   "cell_type": "code",
   "execution_count": null,
   "metadata": {},
   "outputs": [],
   "source": []
  },
  {
   "cell_type": "markdown",
   "metadata": {},
   "source": [
    "# CSV conversion"
   ]
  },
  {
   "cell_type": "code",
   "execution_count": 16,
   "metadata": {},
   "outputs": [
    {
     "name": "stdout",
     "output_type": "stream",
     "text": [
      "[['Fridtjof Nansen Institute', 'Non-profit research institute', 'Private', 'Research and Consulting', 'Research', 'Norway']]\n",
      "[['Environmental Protection Agency, Denmark','Government agency','Public','Environmental protection','Public sector','Denmark']]\n",
      "[['Environmental Protection Agency, Denmark', 'Government agency', 'Public', 'Environmental protection', 'Public sector', 'Denmark']]\n"
     ]
    }
   ],
   "source": [
    "print(df['Cathegories'][83])\n",
    "print(df['Cathegories'][72])\n",
    "\n",
    "print(ast.literal_eval(df['Cathegories'][72]))"
   ]
  },
  {
   "cell_type": "code",
   "execution_count": 19,
   "metadata": {},
   "outputs": [],
   "source": [
    "col1 = []\n",
    "col2 = []\n",
    "col3 = []\n",
    "col4 = []\n",
    "col5 = []\n",
    "col6 = []\n",
    "col7 = []\n",
    "for string in df['Cathegories']:\n",
    "    strlist = ast.literal_eval(string)\n",
    "    col1.append(strlist[0][0])\n",
    "    col2.append(strlist[0][1])\n",
    "    col3.append(strlist[0][2])\n",
    "    col4.append(strlist[0][3])\n",
    "    col5.append(strlist[0][4])\n",
    "    col6.append(strlist[0][5])\n",
    "    col7.append(strlist[0][6])"
   ]
  },
  {
   "cell_type": "code",
   "execution_count": null,
   "metadata": {},
   "outputs": [],
   "source": [
    "dict_df = {'Name': col1, 'Organisation_type':col2, 'Ownership_type':col3, 'Actor_type': col4, 'Industry_Sector': col5 , 'Value_chain_position':col6,'Nationality': col7}\n",
    "df_to_save = pd.DataFrame(dict_df)"
   ]
  },
  {
   "cell_type": "code",
   "execution_count": null,
   "metadata": {},
   "outputs": [],
   "source": [
    "df_to_save.to_csv('companies_for_AI_cathegorisation.csv', index=False)"
   ]
  }
 ],
 "metadata": {
  "kernelspec": {
   "display_name": "Python 3",
   "language": "python",
   "name": "python3"
  },
  "language_info": {
   "codemirror_mode": {
    "name": "ipython",
    "version": 3
   },
   "file_extension": ".py",
   "mimetype": "text/x-python",
   "name": "python",
   "nbconvert_exporter": "python",
   "pygments_lexer": "ipython3",
   "version": "3.11.6"
  }
 },
 "nbformat": 4,
 "nbformat_minor": 2
}
